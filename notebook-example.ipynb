{
 "cells": [
  {
   "cell_type": "code",
   "execution_count": null,
   "id": "de4d0b2b",
   "metadata": {},
   "outputs": [],
   "source": []
  },
  {
   "cell_type": "code",
   "execution_count": 1,
   "id": "cf4e84f0",
   "metadata": {},
   "outputs": [
    {
     "name": "stdout",
     "output_type": "stream",
     "text": [
      "23/04/29 15:37:07 WARN SparkSession: Using an existing Spark session; only runtime SQL configurations will take effect.\n",
      "number of events: 13167\n"
     ]
    }
   ],
   "source": [
    "import sys\n",
    "from operator import add\n",
    "\n",
    "from pyspark.sql import SparkSession\n",
    "\n",
    "spark = SparkSession.builder \\\n",
    "    .appName(\"PlayingWithProjections01\") \\\n",
    "    .getOrCreate()\n",
    "\n",
    "lines = spark.read \\\n",
    "    .option(\"multiLine\", True) \\\n",
    "    .json('../data/basic.json')\n",
    "\n",
    "print(\"number of events:\", lines.count())"
   ]
  },
  {
   "cell_type": "code",
   "execution_count": 4,
   "id": "62856d06",
   "metadata": {},
   "outputs": [
    {
     "data": {
      "text/plain": [
       "53"
      ]
     },
     "execution_count": 4,
     "metadata": {},
     "output_type": "execute_result"
    }
   ],
   "source": [
    "player_registrations = lines.filter(lines.type == 'PlayerHasRegistered')\n",
    "player_registrations.count()"
   ]
  },
  {
   "cell_type": "code",
   "execution_count": 5,
   "id": "1c3a48a8",
   "metadata": {},
   "outputs": [
    {
     "data": {
      "text/plain": [
       "280"
      ]
     },
     "execution_count": 5,
     "metadata": {},
     "output_type": "execute_result"
    }
   ],
   "source": [
    "games_opened = lines.filter(lines.type == 'GameWasOpened')\n",
    "games_opened.count()"
   ]
  },
  {
   "cell_type": "code",
   "execution_count": 6,
   "id": "ca1f2544",
   "metadata": {},
   "outputs": [
    {
     "data": {
      "text/plain": [
       "1060"
      ]
     },
     "execution_count": 6,
     "metadata": {},
     "output_type": "execute_result"
    }
   ],
   "source": [
    "quiz_created = lines.filter(lines.type == 'QuizWasCreated')\n",
    "quiz_created.count()\n"
   ]
  },
  {
   "cell_type": "code",
   "execution_count": 8,
   "id": "c60a621a",
   "metadata": {},
   "outputs": [
    {
     "name": "stdout",
     "output_type": "stream",
     "text": [
      "+--------------------+--------------------+--------------------+--------------+\n",
      "|                  id|             payload|           timestamp|          type|\n",
      "+--------------------+--------------------+--------------------+--------------+\n",
      "|606cf2b8-d97e-4a9...|{null, null, null...|2019-08-02T02:54:30Z|QuizWasCreated|\n",
      "|73d0943e-6858-4d6...|{null, null, null...|2019-08-02T03:01:19Z|QuizWasCreated|\n",
      "|e6f9dfa9-d991-4b0...|{null, null, null...|2019-08-02T03:13:28Z|QuizWasCreated|\n",
      "|867a2de7-4d7d-497...|{null, null, null...|2019-08-02T03:21:40Z|QuizWasCreated|\n",
      "|25b7f8ec-26a0-4a8...|{null, null, null...|2019-08-02T03:32:02Z|QuizWasCreated|\n",
      "|fd459cd0-ac59-490...|{null, null, null...|2019-08-02T03:42:59Z|QuizWasCreated|\n",
      "|fab548bf-2535-4e3...|{null, null, null...|2019-08-02T03:52:04Z|QuizWasCreated|\n",
      "|7ee2adc1-23f7-451...|{null, null, null...|2019-08-02T04:00:45Z|QuizWasCreated|\n",
      "|64efb045-a486-41f...|{null, null, null...|2019-08-02T04:11:06Z|QuizWasCreated|\n",
      "|9bcd6010-6b4e-43f...|{null, null, null...|2019-08-02T04:22:52Z|QuizWasCreated|\n",
      "|ed8e749c-68ee-43f...|{null, null, null...|2019-08-02T04:32:20Z|QuizWasCreated|\n",
      "|0e0eaa8e-8cb7-497...|{null, null, null...|2019-08-02T04:42:09Z|QuizWasCreated|\n",
      "|45c4d709-3da2-497...|{null, null, null...|2019-08-02T04:54:55Z|QuizWasCreated|\n",
      "|26e2d977-7b6f-4ea...|{null, null, null...|2019-08-02T05:02:09Z|QuizWasCreated|\n",
      "|8d58e6ab-66bb-486...|{null, null, null...|2019-08-02T05:12:00Z|QuizWasCreated|\n",
      "|0489ea6b-a10a-429...|{null, null, null...|2019-08-02T05:20:43Z|QuizWasCreated|\n",
      "|5c07a1cb-ffee-45c...|{null, null, null...|2019-08-02T05:30:27Z|QuizWasCreated|\n",
      "|55718b39-2dd3-411...|{null, null, null...|2019-08-02T05:42:09Z|QuizWasCreated|\n",
      "|6bc0c83a-e681-47a...|{null, null, null...|2019-08-02T05:51:10Z|QuizWasCreated|\n",
      "|d1627cf1-1df3-45f...|{null, null, null...|2019-08-02T06:03:56Z|QuizWasCreated|\n",
      "+--------------------+--------------------+--------------------+--------------+\n",
      "only showing top 20 rows\n",
      "\n"
     ]
    }
   ],
   "source": [
    "quiz_created.show()"
   ]
  },
  {
   "cell_type": "code",
   "execution_count": null,
   "id": "b21ab503",
   "metadata": {},
   "outputs": [],
   "source": []
  }
 ],
 "metadata": {
  "kernelspec": {
   "display_name": "Python 3 (ipykernel)",
   "language": "python",
   "name": "python3"
  },
  "language_info": {
   "codemirror_mode": {
    "name": "ipython",
    "version": 3
   },
   "file_extension": ".py",
   "mimetype": "text/x-python",
   "name": "python",
   "nbconvert_exporter": "python",
   "pygments_lexer": "ipython3",
   "version": "3.9.13"
  }
 },
 "nbformat": 4,
 "nbformat_minor": 5
}
